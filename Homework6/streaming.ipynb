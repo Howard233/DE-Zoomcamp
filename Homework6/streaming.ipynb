{
 "cells": [
  {
   "cell_type": "code",
   "execution_count": 2,
   "metadata": {},
   "outputs": [
    {
     "name": "stdout",
     "output_type": "stream",
     "text": [
      "Requirement already satisfied: kafka-python in /Users/haozhewang/Desktop/DataEngineeringZoomCamp/.conda/lib/python3.11/site-packages (2.0.6)\n"
     ]
    }
   ],
   "source": [
    "# !pip install kafka-python"
   ]
  },
  {
   "cell_type": "code",
   "execution_count": 9,
   "metadata": {},
   "outputs": [
    {
     "data": {
      "text/plain": [
       "True"
      ]
     },
     "execution_count": 9,
     "metadata": {},
     "output_type": "execute_result"
    }
   ],
   "source": [
    "import json\n",
    "\n",
    "from kafka import KafkaProducer\n",
    "\n",
    "def json_serializer(data):\n",
    "    return json.dumps(data).encode('utf-8')\n",
    "\n",
    "server = 'localhost:9092'\n",
    "\n",
    "producer = KafkaProducer(\n",
    "    bootstrap_servers=[server],\n",
    "    value_serializer=json_serializer\n",
    ")\n",
    "\n",
    "producer.bootstrap_connected()"
   ]
  },
  {
   "cell_type": "code",
   "execution_count": 10,
   "metadata": {},
   "outputs": [
    {
     "name": "stderr",
     "output_type": "stream",
     "text": [
      "/var/folders/jb/tswjt0115x1g7rxh3tbm78p80000gn/T/ipykernel_20886/260465416.py:6: DtypeWarning: Columns (3) have mixed types. Specify dtype option on import or set low_memory=False.\n",
      "  df = pd.read_csv(trip_csv, compression=\"gzip\")\n"
     ]
    }
   ],
   "source": [
    "# read green tripdata\n",
    "import pandas as pd\n",
    "\n",
    "trip_csv = r\"green_tripdata_2019-10.csv.gz\"\n",
    "\n",
    "df = pd.read_csv(trip_csv, compression=\"gzip\")\n",
    "df = df[['lpep_pickup_datetime', \n",
    "         'lpep_dropoff_datetime',\n",
    "         'PULocationID',\n",
    "         'DOLocationID',\n",
    "         'passenger_count',\n",
    "         'trip_distance',\n",
    "         'tip_amount'\n",
    "         ]]"
   ]
  },
  {
   "cell_type": "code",
   "execution_count": 8,
   "metadata": {},
   "outputs": [
    {
     "name": "stdout",
     "output_type": "stream",
     "text": [
      "20.667999029159546\n"
     ]
    }
   ],
   "source": [
    "from time import time\n",
    "\n",
    "topic_name = \"green-trips\"\n",
    "t0 = time()\n",
    "\n",
    "for index, row in df.iterrows():\n",
    "    message = row.to_dict()\n",
    "    producer.send(topic_name, value=message)\n",
    "producer.flush()\n",
    "\n",
    "t1 = time()\n",
    "took = t1 - t0\n",
    "\n",
    "print(took)"
   ]
  },
  {
   "cell_type": "code",
   "execution_count": null,
   "metadata": {},
   "outputs": [],
   "source": []
  }
 ],
 "metadata": {
  "kernelspec": {
   "display_name": "Python 3",
   "language": "python",
   "name": "python3"
  },
  "language_info": {
   "codemirror_mode": {
    "name": "ipython",
    "version": 3
   },
   "file_extension": ".py",
   "mimetype": "text/x-python",
   "name": "python",
   "nbconvert_exporter": "python",
   "pygments_lexer": "ipython3",
   "version": "3.11.11"
  }
 },
 "nbformat": 4,
 "nbformat_minor": 2
}
